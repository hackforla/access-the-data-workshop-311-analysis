{
 "cells": [
  {
   "cell_type": "markdown",
   "id": "edb7ec4e-4c4f-4e1e-b864-53d28d9060aa",
   "metadata": {},
   "source": [
    "# Request Type Analysis\n",
    "\n",
    "Look at the request type values from 311.  Questions to consider:\n",
    "\n",
    "  - Counts\n",
    "  - Spatial (NCs) distribution\n",
    "  - Time to complete\n",
    "  - Time to complete by service provider\n",
    "  - Spatial (service region) distr\n",
    "  - Repeated addresses\n",
    "  \n",
    "**Note:** Compendium of hacks to examine/subset the gdf.  Explore!"
   ]
  },
  {
   "cell_type": "markdown",
   "id": "26d1bc47-3b56-4780-8645-728a1a6c433a",
   "metadata": {},
   "source": [
    "# 1 - Setup"
   ]
  },
  {
   "cell_type": "code",
   "execution_count": null,
   "id": "43418e3e-4d3a-4765-b242-1063f3266881",
   "metadata": {
    "tags": []
   },
   "outputs": [],
   "source": [
    "%run start.py\n",
    "from utils import read_new311_shape, dt_to_object"
   ]
  },
  {
   "cell_type": "markdown",
   "id": "4da1933f-7f7c-41c7-b786-135e2e6094d3",
   "metadata": {},
   "source": [
    "# 2 - Get Data Files\n",
    "\n",
    "Two data sets:\n",
    "\n",
    "  1. extended311 for point features\n",
    "  2. cleaned, certified NCs for polygons"
   ]
  },
  {
   "cell_type": "code",
   "execution_count": null,
   "id": "547b1fc6-e999-4768-8d95-833471889108",
   "metadata": {},
   "outputs": [],
   "source": [
    "%%time\n",
    "#extended311_gdf = read_new311_shape('../data/311/extended311-geo-shape.shp')\n",
    "extended311_gdf = gpd.read_parquet('../data/311/extended311-geo-shape.parq')"
   ]
  },
  {
   "cell_type": "code",
   "execution_count": null,
   "id": "39286ffd-c8bf-4012-9857-6c38c319411d",
   "metadata": {},
   "outputs": [],
   "source": [
    "extended311_gdf.info()"
   ]
  },
  {
   "cell_type": "markdown",
   "id": "367f8cfa-1e24-482e-81cf-b940f1244e72",
   "metadata": {},
   "source": [
    "Certified, cleaned neighborhoods is a common idiom at this stage so ..."
   ]
  },
  {
   "cell_type": "code",
   "execution_count": null,
   "id": "dd59152f-30ac-4192-b281-8b462164bd89",
   "metadata": {},
   "outputs": [],
   "source": [
    "neighborhoods_gdf = gpd.read_file('../data/neighborhoods/Neighborhood_Councils_(Certified)_cleaned.shp')\n",
    "\n",
    "neighborhoods_gdf.rename(columns={'NAME': 'name',\n",
    "                        'NC_ID': 'nc_id',\n",
    "                        'SERVICE_RE': 'service_region'},\n",
    "              inplace=True);"
   ]
  },
  {
   "cell_type": "code",
   "execution_count": null,
   "id": "478c4258-65fc-41e4-868b-626b397b56a5",
   "metadata": {},
   "outputs": [],
   "source": [
    "neighborhoods_gdf.info()"
   ]
  },
  {
   "cell_type": "code",
   "execution_count": null,
   "id": "83ef7cd9-c71d-416f-be9b-83a98f1c0eb7",
   "metadata": {},
   "outputs": [],
   "source": []
  },
  {
   "cell_type": "markdown",
   "id": "7e90a651-2923-4109-8418-0292251c81e6",
   "metadata": {},
   "source": [
    "# 3 - Some Data Massaging/Exploring"
   ]
  },
  {
   "cell_type": "markdown",
   "id": "96ac15bd-33e6-4813-b27c-18962f5a90cf",
   "metadata": {},
   "source": [
    "Various ideas to explore the gdf via request_type.  \n",
    "\n",
    "Also would be good to look at the \"repeat offenders\" by looking at common addresses (note location by block face so ...)"
   ]
  },
  {
   "cell_type": "code",
   "execution_count": null,
   "id": "d9394c68-a115-452e-b00f-3328c8a371c2",
   "metadata": {},
   "outputs": [],
   "source": [
    "extended311_gdf.iloc[27]"
   ]
  },
  {
   "cell_type": "code",
   "execution_count": null,
   "id": "c48fd405-3f50-4c7c-9dee-b0f9c03f9c1c",
   "metadata": {},
   "outputs": [],
   "source": [
    "extended311_gdf.iloc[27]['created_dt'].day_of_week"
   ]
  },
  {
   "cell_type": "code",
   "execution_count": null,
   "id": "18a558a9-e4be-42ed-9699-0ee30e3cacc3",
   "metadata": {},
   "outputs": [],
   "source": [
    "extended311_gdf.iloc[27]['created_dt'].date()"
   ]
  },
  {
   "cell_type": "code",
   "execution_count": null,
   "id": "8273ec27-5c57-4977-9836-6f8d4ccebd71",
   "metadata": {},
   "outputs": [],
   "source": [
    "extended311_gdf['day_of_week'] = extended311_gdf['created_dt'].apply(lambda dt: dt.day_of_week)"
   ]
  },
  {
   "cell_type": "code",
   "execution_count": null,
   "id": "0e0c81fc-c2c7-4117-8b5a-c933b08164ec",
   "metadata": {},
   "outputs": [],
   "source": [
    "extended311_gdf.day_of_week.value_counts()"
   ]
  },
  {
   "cell_type": "code",
   "execution_count": null,
   "id": "e1a672b5-4e14-4697-be03-9d1fb32c114a",
   "metadata": {},
   "outputs": [],
   "source": [
    "extended311_gdf['date'] = extended311_gdf['created_dt'].apply(lambda dt: dt.date())"
   ]
  },
  {
   "cell_type": "code",
   "execution_count": null,
   "id": "ba67a379-960b-43ea-ad45-c10a49ac01ef",
   "metadata": {},
   "outputs": [],
   "source": [
    "extended311_gdf['date'].value_counts(sort=False)"
   ]
  },
  {
   "cell_type": "code",
   "execution_count": null,
   "id": "e22f3dfb-e741-468f-8d46-dfad1dd8d3f8",
   "metadata": {},
   "outputs": [],
   "source": [
    "extended311_gdf['month'] = extended311_gdf['created_dt'].apply(lambda dt: dt.month)"
   ]
  },
  {
   "cell_type": "code",
   "execution_count": null,
   "id": "1a50b149-63d2-4a09-92ae-bbd08159e4a4",
   "metadata": {},
   "outputs": [],
   "source": [
    "extended311_gdf['month'].value_counts(sort=False)"
   ]
  },
  {
   "cell_type": "code",
   "execution_count": null,
   "id": "f36bec57-734c-4872-9708-2173fbe4cf1d",
   "metadata": {},
   "outputs": [],
   "source": [
    "extended311_gdf['quarter'] = extended311_gdf['created_dt'].apply(lambda dt: dt.quarter)"
   ]
  },
  {
   "cell_type": "code",
   "execution_count": null,
   "id": "b835dc5d-f4a9-4d01-97e6-3a0fc8f4de92",
   "metadata": {},
   "outputs": [],
   "source": [
    "extended311_gdf['quarter'].value_counts(sort=False)"
   ]
  },
  {
   "cell_type": "code",
   "execution_count": null,
   "id": "27ae210a-e8d8-4e03-ae87-20c2af25a14b",
   "metadata": {},
   "outputs": [],
   "source": [
    "still_open_gdf = extended311_gdf[extended311_gdf['closed_dt'].isnull()].reset_index()"
   ]
  },
  {
   "cell_type": "code",
   "execution_count": null,
   "id": "2bdf7c35-3740-4fa9-8e95-d53828121098",
   "metadata": {},
   "outputs": [],
   "source": []
  },
  {
   "cell_type": "code",
   "execution_count": null,
   "id": "fd7b7b74-00a3-4a06-a7cb-b13890511f50",
   "metadata": {},
   "outputs": [],
   "source": [
    "pd.options.display.max_rows"
   ]
  },
  {
   "cell_type": "code",
   "execution_count": null,
   "id": "34f4a007-3c10-41a4-8243-8c9f5a5ffbc8",
   "metadata": {},
   "outputs": [],
   "source": []
  },
  {
   "cell_type": "code",
   "execution_count": null,
   "id": "62dd458a-8fd2-4c1b-925d-dff282c2aacd",
   "metadata": {},
   "outputs": [],
   "source": [
    "pd.set_option(\"max_rows\", 200)\n",
    "pd.set_option(\"min_rows\", 20)\n",
    "still_open_gdf['date'].value_counts(sort=False, dropna=False).to_frame().reset_index()\n",
    "#pd.reset_option(\"max_rows\")"
   ]
  },
  {
   "cell_type": "code",
   "execution_count": null,
   "id": "39049afd-7bd5-4fa9-a290-06cb09a19bfa",
   "metadata": {},
   "outputs": [],
   "source": [
    "extended311_gdf_info = Output(layout={'border': '1px solid black',\n",
    "                            'width': '50%'})\n",
    "\n",
    "still_open_gdf_info = Output(layout={'border': '1px solid black',\n",
    "                            'width': '50%'})\n",
    "\n",
    "with extended311_gdf_info:\n",
    "    display(HTML('<center><b>created count</b></center>'))\n",
    "    display(extended311_gdf['date'].value_counts(sort=False))\n",
    "\n",
    "with still_open_gdf_info:\n",
    "    display(HTML('<center><b>still open count</b></center>'))\n",
    "    display(still_open_gdf['date'].value_counts(sort=False))\n",
    "\n",
    "HBox([extended311_gdf_info, still_open_gdf_info])"
   ]
  },
  {
   "cell_type": "code",
   "execution_count": null,
   "id": "cf67e17e-a4a7-4f0c-8644-4ca70ece8df1",
   "metadata": {},
   "outputs": [],
   "source": [
    "f1 = extended311_gdf['date'].value_counts(sort=False).to_frame().reset_index().rename(columns={'index': 'day', 'date': 'created count'})\n",
    "f2 = still_open_gdf['date'].value_counts(sort=False).to_frame().reset_index().rename(columns={'index': 'day', 'date': 'open count'})   \n",
    "\n",
    "merged_counts = pd.merge(f1, f2, on=\"day\")\n",
    "merged_counts['percentage'] = merged_counts.apply(lambda row: row['open count']/row['created count'], axis=1)"
   ]
  },
  {
   "cell_type": "code",
   "execution_count": null,
   "id": "47ecb65b-a6bf-48bb-b127-2a38776206e8",
   "metadata": {},
   "outputs": [],
   "source": [
    "merged_counts"
   ]
  },
  {
   "cell_type": "code",
   "execution_count": null,
   "id": "1579129e-44eb-4792-a1e5-557f9ff0dfca",
   "metadata": {},
   "outputs": [],
   "source": [
    "graffiti_gdf = gpd.read_parquet('../data/311/graffiti.parq')"
   ]
  },
  {
   "cell_type": "code",
   "execution_count": null,
   "id": "0847abc4-d61c-4094-8ad3-3dba2390b73c",
   "metadata": {},
   "outputs": [],
   "source": [
    "graffiti_counts = graffiti_gdf['nc'].value_counts().to_frame().reset_index().rename(columns={'index': 'nc_id', 'nc': 'count'})"
   ]
  },
  {
   "cell_type": "code",
   "execution_count": null,
   "id": "410e5ca6-6b4f-491a-b1df-6178205cd45a",
   "metadata": {},
   "outputs": [],
   "source": [
    "graffiti_counts.head()"
   ]
  },
  {
   "cell_type": "code",
   "execution_count": null,
   "id": "cca95147-4bf9-4a13-ac19-5aab99b348d5",
   "metadata": {},
   "outputs": [],
   "source": [
    "len(graffiti_gdf)"
   ]
  },
  {
   "cell_type": "code",
   "execution_count": null,
   "id": "9e5c4845-43d5-43f9-a0f6-644a0ab9785e",
   "metadata": {
    "tags": []
   },
   "outputs": [],
   "source": [
    "graffiti_merged = pd.merge(neighborhoods_gdf, graffiti_counts, how=\"left\", on=[\"nc_id\"])"
   ]
  },
  {
   "cell_type": "code",
   "execution_count": null,
   "id": "1518c65a-22b0-426b-a1fc-fba96b56c46b",
   "metadata": {},
   "outputs": [],
   "source": [
    "graffiti_merged.head()"
   ]
  },
  {
   "cell_type": "code",
   "execution_count": null,
   "id": "5e59b01b-00fa-45bd-8fc1-41778ead9fc4",
   "metadata": {},
   "outputs": [],
   "source": [
    "graffiti_gdf['address'].value_counts()"
   ]
  },
  {
   "cell_type": "code",
   "execution_count": null,
   "id": "87de2b49-e250-445d-930d-c32a54754160",
   "metadata": {},
   "outputs": [],
   "source": [
    "graffiti_gdf[graffiti_gdf['nc_name'].notnull()].query(f\"nc_name.str.contains('South Central')\", engine=\"python\")['address'].value_counts()"
   ]
  },
  {
   "cell_type": "markdown",
   "id": "6a278f94-aba8-4497-b855-24ed7ff4cc8b",
   "metadata": {},
   "source": [
    "# 4 - Display Counts\n",
    "\n",
    "Display counts as choropleth using ipyleaflet.  "
   ]
  },
  {
   "cell_type": "code",
   "execution_count": null,
   "id": "81a1ed33-d166-45b3-8c1a-9e3646e308df",
   "metadata": {},
   "outputs": [],
   "source": [
    "from ipyleaflet import FullScreenControl"
   ]
  },
  {
   "cell_type": "code",
   "execution_count": null,
   "id": "9b13a342-6cd0-4b76-a003-841e566d95fb",
   "metadata": {},
   "outputs": [],
   "source": [
    "imagery = basemap_to_tiles(basemaps.Esri.WorldImagery)\n",
    "imagery.base = True\n",
    "osm = basemap_to_tiles(basemaps.OpenStreetMap.Mapnik)\n",
    "osm.base = True\n",
    "\n",
    "\n",
    "map_display = Map(center=(34.05, -118.25), zoom=11,\n",
    "                  layers=[imagery, osm],\n",
    "                  layout=Layout(height=\"900px\"),\n",
    "                  scroll_wheel_zoom=True)\n",
    "\n",
    "#map_display.add_control(LayersControl())\n",
    "#map_display += nc_layer\n",
    "\n",
    "map_display.add_control(FullScreenControl())\n",
    "map_display"
   ]
  },
  {
   "cell_type": "markdown",
   "id": "cb18dee2-88b0-453a-9e7e-094ffcf822fc",
   "metadata": {},
   "source": [
    "refer to : https://www.youtube.com/watch?v=wjzAy_yLrdA"
   ]
  },
  {
   "cell_type": "code",
   "execution_count": null,
   "id": "763c8f08-5faa-4ae6-ab3d-d0f309950a25",
   "metadata": {},
   "outputs": [],
   "source": [
    "from ipyleaflet import Choropleth, Map\n",
    "from branca.colormap import linear\n",
    "a_geojson = json.loads(graffiti_merged.to_json())\n",
    "\n",
    "graffiti_density = dict(zip(graffiti_merged['name'].tolist(), graffiti_merged['count'].tolist()))\n",
    "for i in a_geojson['features']:\n",
    "    i['id'] = i['properties']['name']\n",
    "\n",
    "layer = Choropleth(\n",
    "                    geo_data=a_geojson,\n",
    "                    choro_data=graffiti_density,\n",
    "                    colormap=linear.YlOrRd_09, #linear.Blues_05,\n",
    "                    style={'fillOpacity': 1.0, \"color\":\"black\"},)\n",
    "                    #key_on=\"name\")\n",
    "\n",
    "map_display.add_layer(layer)"
   ]
  },
  {
   "cell_type": "markdown",
   "id": "a4d0e1d6-daf2-4a04-80fa-ab3d7246bca7",
   "metadata": {},
   "source": [
    "I need to revisit a tooltip type popup.  For now this will work."
   ]
  },
  {
   "cell_type": "code",
   "execution_count": null,
   "id": "5e8dc5f4-fcb7-4720-abbd-bb079830bca7",
   "metadata": {},
   "outputs": [],
   "source": [
    "geo_json = GeoJSON(\n",
    "    data=a_geojson,\n",
    "    style={\n",
    "        'opacity': 1, 'dashArray': '9', 'fillOpacity': 0.6, 'weight': 1\n",
    "    },\n",
    "    hover_style={\n",
    "        'color': 'white', 'dashArray': '0', 'fillOpacity': 0.5\n",
    "    },\n",
    "    name='NCs'\n",
    ")\n",
    "\n",
    "html = HTML('''Hover over a district''')\n",
    "html.layout.margin = '0px 20px 20px 20 px'\n",
    "control = WidgetControl(widget=html, position='bottomright')\n",
    "\n",
    "def update_html(feature, **kwargs):\n",
    "    html.value = '''<h3><b>NC: {}</b></h3>\n",
    "                    <h4>Count: {}'''.format(feature['properties']['name'],\n",
    "                                                           feature['properties']['count'])\n",
    "    \n",
    "map_display.add_control(control)  # does += work for this?\n",
    "\n",
    "layer.on_hover(update_html)"
   ]
  },
  {
   "cell_type": "markdown",
   "id": "1456dbbd-0a78-4974-8713-eac557c40936",
   "metadata": {},
   "source": [
    "# 6 - So What?\n",
    "\n",
    "This is a basic viz using ipyleaflet.  What's next:\n",
    "\n",
    "  1. I have two other visualization notebooks in this repo using folium.  Check them out.\n",
    "  2. I would like to hook this up with bqplot.\n",
    "  3. I've recently (01/12/2022) started evaluating holoviz...this should integrate with that.\n",
    "  \n"
   ]
  },
  {
   "cell_type": "code",
   "execution_count": null,
   "id": "066e728e-fa09-418b-9bf1-332fa5631a23",
   "metadata": {},
   "outputs": [],
   "source": []
  }
 ],
 "metadata": {
  "kernelspec": {
   "display_name": "Python 3 (ipykernel)",
   "language": "python",
   "name": "python3"
  },
  "language_info": {
   "codemirror_mode": {
    "name": "ipython",
    "version": 3
   },
   "file_extension": ".py",
   "mimetype": "text/x-python",
   "name": "python",
   "nbconvert_exporter": "python",
   "pygments_lexer": "ipython3",
   "version": "3.10.2"
  }
 },
 "nbformat": 4,
 "nbformat_minor": 5
}
