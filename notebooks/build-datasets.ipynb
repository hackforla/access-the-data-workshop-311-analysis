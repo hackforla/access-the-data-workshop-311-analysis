{
 "cells": [
  {
   "cell_type": "markdown",
   "id": "bd009e86-a5bd-447e-b057-d9b082165e4d",
   "metadata": {},
   "source": [
    "# Dataset Construction\n",
    "\n",
    "This is mostly a scratchpad area.  I use it to examine, and then subset the extended311 to generate smaller data sets.\n",
    "\n",
    "I am going to start by reading all the data from the files generated in 311-data-cleaning and 311-data-cleaning-part2\n",
    "\n",
    "Two of the sections are required for other notebooks. ecwandc section generates data for ECWANDC.ipynb and graffiti for graffiti.ipynb.\n",
    "\n",
    "**Note:**  Documentation/narrative in the nb is a bit lacking!"
   ]
  },
  {
   "cell_type": "code",
   "execution_count": null,
   "id": "ff3a5f0c-80d5-49cc-b013-9a9c331863fb",
   "metadata": {
    "tags": []
   },
   "outputs": [],
   "source": [
    "%run start.py\n",
    "import nc\n",
    "\n",
    "from utils import read_new311_shape, dt_to_object"
   ]
  },
  {
   "cell_type": "markdown",
   "id": "24f1ebcf-f46a-4baf-974f-5129899ef3ec",
   "metadata": {},
   "source": [
    "Reading the various files generated in cleaning with quick examination to see if they make sense."
   ]
  },
  {
   "cell_type": "code",
   "execution_count": null,
   "id": "3799fb9b-a492-453a-828c-5b498339e6dd",
   "metadata": {},
   "outputs": [],
   "source": [
    "%%time\n",
    "clean311_df = pd.read_csv('../data/311/clean311.csv', low_memory=False)"
   ]
  },
  {
   "cell_type": "code",
   "execution_count": null,
   "id": "d67cc04a-07b8-4776-8d64-483f6bd708d0",
   "metadata": {},
   "outputs": [],
   "source": [
    "clean311_df.info()"
   ]
  },
  {
   "cell_type": "markdown",
   "id": "c67ca5ee-8e5c-4871-b8a6-044cdaededa4",
   "metadata": {},
   "source": [
    "(01/18/2022)  Changing this up to reflect paraquet files.\n",
    "\n",
    "If you want the other formats then uncomment here and build appropriate in 311-data-cleaning.ipynb."
   ]
  },
  {
   "cell_type": "code",
   "execution_count": null,
   "id": "e81aa36d-a2c7-404b-b529-e9b3e31cccb1",
   "metadata": {},
   "outputs": [],
   "source": [
    "#clean311_geojson_gdf = read_new311_shape('../data/311/clean311.geojson')\n",
    "\n",
    "#clean311_geojson_gdf.info()"
   ]
  },
  {
   "cell_type": "code",
   "execution_count": null,
   "id": "b3d69eea-743f-4071-9ebe-eeb40d17c1ae",
   "metadata": {},
   "outputs": [],
   "source": [
    "#clean311_geo_shape_gdf = read_new311_shape('../data/311/clean311-geo.shp')\n",
    "\n",
    "#clean311_geo_shape_gdf.info()"
   ]
  },
  {
   "cell_type": "code",
   "execution_count": null,
   "id": "4fa6ae74-37cb-4e01-871c-21f077e3ef98",
   "metadata": {},
   "outputs": [],
   "source": [
    "#clean311_regions_geojson_gdf = read_new311_shape('../data/311/clean311-regions.geojson')\n",
    "#clean311_regions_geojson_gdf.info()"
   ]
  },
  {
   "cell_type": "code",
   "execution_count": null,
   "id": "033e64f9-3760-4bf9-aff2-22fea72f14b8",
   "metadata": {},
   "outputs": [],
   "source": [
    "#clean311_regions_shape_gdf = read_new311_shape('../data/311/clean311-regions.shp')\n",
    "#clean311_regions_shape_gdf.info()"
   ]
  },
  {
   "cell_type": "markdown",
   "id": "f91ae002-fae9-4738-8c9a-4df8c9044499",
   "metadata": {},
   "source": [
    "So these tests seem reasonable."
   ]
  },
  {
   "cell_type": "markdown",
   "id": "6c0eae63-09a0-4ec0-870a-9d9666429a42",
   "metadata": {},
   "source": [
    "This is the file used in other parts of the nb to examine, subset, ..."
   ]
  },
  {
   "cell_type": "code",
   "execution_count": null,
   "id": "fe35920f-545c-48a6-94bd-1c501725f34a",
   "metadata": {},
   "outputs": [],
   "source": [
    "%%time\n",
    "clean311_gdf = gpd.read_parquet('../data/311/clean311.parq')"
   ]
  },
  {
   "cell_type": "code",
   "execution_count": null,
   "id": "13a6ff3e-9135-4f98-8442-0c5c6370db81",
   "metadata": {},
   "outputs": [],
   "source": [
    "clean311_gdf.info()"
   ]
  },
  {
   "cell_type": "markdown",
   "id": "9ec1d60c-89fa-4dd9-9781-5e179950922a",
   "metadata": {},
   "source": [
    "So this parquet format is quite amazing.  It saves the dtypes I want.  If is fast and efficient."
   ]
  },
  {
   "cell_type": "code",
   "execution_count": null,
   "id": "7002984c-c261-4b08-bb9e-ae3614385f3d",
   "metadata": {},
   "outputs": [],
   "source": [
    "#extended311_gdf = read_new311_shape('../data/311/extended311-geo-shape.shp')\n",
    "#extended311_gdf.info()"
   ]
  },
  {
   "cell_type": "code",
   "execution_count": null,
   "id": "b0942010-a092-405f-83a7-13a630cd5268",
   "metadata": {},
   "outputs": [],
   "source": [
    "extended311_gdf = gpd.read_parquet('../data/311/extended311-geo-shape.parq')\n",
    "extended311_gdf.info()"
   ]
  },
  {
   "cell_type": "markdown",
   "id": "9fc3d8e8-c204-4bd5-b8ed-3d3346723983",
   "metadata": {},
   "source": [
    "# Graffiti \n",
    "\n",
    "Some experimentation here.  This is the use case for the first workshop.\n",
    "\n",
    "Use this as an exemplar if you want to try different request_types."
   ]
  },
  {
   "cell_type": "code",
   "execution_count": null,
   "id": "289b9a53-8987-4bfc-a8b7-a8770c6fa79f",
   "metadata": {},
   "outputs": [],
   "source": [
    "extended311_gdf['request_type'].value_counts()"
   ]
  },
  {
   "cell_type": "code",
   "execution_count": null,
   "id": "91883e62-4724-491a-8809-7f746930ff99",
   "metadata": {},
   "outputs": [],
   "source": [
    "graffiti_gdf = extended311_gdf.query(f\"request_type == 'Graffiti Removal'\").reset_index().drop(columns=['index'])"
   ]
  },
  {
   "cell_type": "code",
   "execution_count": null,
   "id": "66c6526a-2a27-4b67-977d-1fc8e2b1b201",
   "metadata": {},
   "outputs": [],
   "source": [
    "graffiti_gdf['nc_name'].value_counts()"
   ]
  },
  {
   "cell_type": "code",
   "execution_count": null,
   "id": "41991829-1015-4386-b7d1-5cdeadc4a54d",
   "metadata": {},
   "outputs": [],
   "source": [
    "graffiti_gdf['service_region'].value_counts()"
   ]
  },
  {
   "cell_type": "code",
   "execution_count": null,
   "id": "3881f797-3ed9-4b3e-9673-b04992df3ae0",
   "metadata": {},
   "outputs": [],
   "source": [
    "#graffiti_gdf = dt_to_object(graffiti_gdf)\n",
    "\n",
    "#graffiti_gdf.to_file('../data/311/graffiti.geojson', driver='GeoJSON')"
   ]
  },
  {
   "cell_type": "code",
   "execution_count": null,
   "id": "1de8020e-6483-4fe9-87ce-b31c6354fe89",
   "metadata": {},
   "outputs": [],
   "source": [
    "graffiti_gdf.to_parquet('../data/311/graffiti.parq')"
   ]
  },
  {
   "cell_type": "markdown",
   "id": "c76c103c-3dae-4362-961b-df00119b56c4",
   "metadata": {},
   "source": [
    "This is still a bit over 500MB.  Too big.\n",
    "\n",
    "Holy crap.  The parquet file is 33M."
   ]
  },
  {
   "cell_type": "markdown",
   "id": "1b179879-6624-4ce0-80e2-5fbb64fa9bff",
   "metadata": {},
   "source": [
    "# Looking at Service Regions\n",
    "\n",
    "I'm basically trying to find some that are under the 100MB limit for github.\n",
    "\n",
    "**Note:** Since the new approach focuses on generating the 311 data sets this is probably moot.  "
   ]
  },
  {
   "cell_type": "code",
   "execution_count": null,
   "id": "af30c4f6-a0ef-4ccc-aede-376453292ed4",
   "metadata": {},
   "outputs": [],
   "source": [
    "extended311_gdf.service_region.value_counts()"
   ]
  },
  {
   "cell_type": "markdown",
   "id": "085eb9dc-d052-4e8d-a297-dbb8ec52d4c3",
   "metadata": {},
   "source": [
    "number of 311 calls per region"
   ]
  },
  {
   "cell_type": "code",
   "execution_count": null,
   "id": "b7709bfa-08c8-43cc-858d-b673e80be5ad",
   "metadata": {},
   "outputs": [],
   "source": [
    "extended311_gdf.region_id.value_counts()"
   ]
  },
  {
   "cell_type": "code",
   "execution_count": null,
   "id": "2e616867-6532-44d0-8a50-72bf5b9b21b0",
   "metadata": {},
   "outputs": [],
   "source": [
    "region_gdf = extended311_gdf.query(f\"region_id == 7\", engine=\"python\").reset_index().drop(columns=['index'])"
   ]
  },
  {
   "cell_type": "code",
   "execution_count": null,
   "id": "5a114730-3180-443f-be60-082983f965e6",
   "metadata": {},
   "outputs": [],
   "source": [
    "len(region_gdf)"
   ]
  },
  {
   "cell_type": "code",
   "execution_count": null,
   "id": "5d63aa16-4e50-4fe7-8dc0-c1d2e375790c",
   "metadata": {},
   "outputs": [],
   "source": [
    "#region_gdf = dt_to_object(region_gdf)"
   ]
  },
  {
   "cell_type": "code",
   "execution_count": null,
   "id": "9ee3369b-1652-44c2-bb2c-cccbad35274c",
   "metadata": {},
   "outputs": [],
   "source": [
    "#region_gdf.to_file('../data/311/region.zip')"
   ]
  },
  {
   "cell_type": "code",
   "execution_count": null,
   "id": "f67906a5-6284-481d-96ed-f05fb4b034a8",
   "metadata": {},
   "outputs": [],
   "source": [
    "region_gdf.to_parquet('../data/311/region.parq')"
   ]
  },
  {
   "cell_type": "code",
   "execution_count": null,
   "id": "5046c5f8-21eb-4d01-bcf4-08682487e920",
   "metadata": {},
   "outputs": [],
   "source": [
    "region_gdf.request_type.value_counts()"
   ]
  },
  {
   "cell_type": "code",
   "execution_count": null,
   "id": "e0e5e2fc-c9b8-4613-91a6-196cdb1de1d8",
   "metadata": {},
   "outputs": [],
   "source": [
    "region_gdf.nc_name.value_counts()"
   ]
  },
  {
   "cell_type": "code",
   "execution_count": null,
   "id": "b4df44bc-7537-48e5-bb92-64ea8038bf2b",
   "metadata": {},
   "outputs": [],
   "source": [
    "region2_gdf = extended311_gdf.query(f\"region_id == 2\", engine=\"python\").reset_index().drop(columns=['index'])\n",
    "region2_gdf = dt_to_object(region2_gdf)"
   ]
  },
  {
   "cell_type": "code",
   "execution_count": null,
   "id": "00c6e17f-baf3-49bb-9b27-4d3880ff6266",
   "metadata": {},
   "outputs": [],
   "source": [
    "#region2_gdf.to_file('../data/311/region2.zip')\n",
    "region2_gdf.to_parquet('../data/311/region2.parq')"
   ]
  },
  {
   "cell_type": "code",
   "execution_count": null,
   "id": "18b11870-ebe5-45ce-97d3-8a26c977541b",
   "metadata": {},
   "outputs": [],
   "source": [
    "extended311_gdf.nc.value_counts()"
   ]
  },
  {
   "cell_type": "code",
   "execution_count": null,
   "id": "aaab3b3e-915c-429a-b351-c1e05a3bff1e",
   "metadata": {},
   "outputs": [],
   "source": [
    "region78_gdf = extended311_gdf.query(f\"nc == 78\", engine=\"python\").reset_index().drop(columns=['index'])"
   ]
  },
  {
   "cell_type": "code",
   "execution_count": null,
   "id": "126f6ede-42c0-4e97-8aa3-695b0c07e6ff",
   "metadata": {},
   "outputs": [],
   "source": [
    "region78_gdf.to_parquet('../data/311/region78.parq')"
   ]
  },
  {
   "cell_type": "code",
   "execution_count": null,
   "id": "beab4404-095d-41b1-9cec-2075c4c80ab7",
   "metadata": {},
   "outputs": [],
   "source": [
    "extended311_gdf[['address']].value_counts()"
   ]
  },
  {
   "cell_type": "code",
   "execution_count": null,
   "id": "803c8868-e5be-48ca-a229-83361a269ceb",
   "metadata": {},
   "outputs": [],
   "source": [
    "groupby_request_type = extended311_gdf.groupby('request_type')"
   ]
  },
  {
   "cell_type": "code",
   "execution_count": null,
   "id": "61f404c4-5390-409d-ae9e-166d82988dd6",
   "metadata": {},
   "outputs": [],
   "source": [
    "len(groupby_request_type)"
   ]
  },
  {
   "cell_type": "code",
   "execution_count": null,
   "id": "9e463d29-14d2-4f0f-915f-834aef873dcb",
   "metadata": {},
   "outputs": [],
   "source": [
    "groupby_request_type.get_group('Bulky Items').reset_index().drop(columns=['index'])"
   ]
  },
  {
   "cell_type": "markdown",
   "id": "450fef83-02af-4d5d-be1d-83bce4abf629",
   "metadata": {},
   "source": [
    "# ecwandc\n",
    "\n",
    "I thought this NC may be a good one to explore.  They had the most participants in the data101 presentations.\n",
    "\n",
    "I use this file in the ECWANDC.ipynb analysis."
   ]
  },
  {
   "cell_type": "code",
   "execution_count": null,
   "id": "3bc54193-6434-422f-a365-ea828d15bdc1",
   "metadata": {},
   "outputs": [],
   "source": [
    "#small_gdf = new311_gdf.query(f\"nc == 46\").reset_index().drop(columns=['index'])\n",
    "ecwandc311_gdf = extended311_gdf.query(f\"nc == 79\", engine=\"python\").reset_index().drop(columns=['index'])"
   ]
  },
  {
   "cell_type": "code",
   "execution_count": null,
   "id": "06819c82-8e39-4560-b118-2abbeab04b53",
   "metadata": {},
   "outputs": [],
   "source": [
    "len(ecwandc311_gdf)"
   ]
  },
  {
   "cell_type": "code",
   "execution_count": null,
   "id": "f550038d-68f5-4c31-b371-5b137fa9abf7",
   "metadata": {},
   "outputs": [],
   "source": [
    "ecwandc311_gdf.info()"
   ]
  },
  {
   "cell_type": "code",
   "execution_count": null,
   "id": "3d37df75-cde5-4cfb-b784-a0bdbdc64734",
   "metadata": {},
   "outputs": [],
   "source": []
  },
  {
   "cell_type": "markdown",
   "id": "af5e0921-0cb1-47ae-8a18-32cdea63da6e",
   "metadata": {},
   "source": [
    "Finally, for this data set I'm going to save as a basic shape file.  It's small so should fit within size limits."
   ]
  },
  {
   "cell_type": "code",
   "execution_count": null,
   "id": "4eca95ac-117e-4a94-b96c-a0446f626ad3",
   "metadata": {},
   "outputs": [],
   "source": [
    "#ecwandc311_gdf = dt_to_object(ecwandc311_gdf)\n",
    "\n",
    "#ecwandc311_gdf.to_file('../data/311/ecwandc311.shp')"
   ]
  },
  {
   "cell_type": "code",
   "execution_count": null,
   "id": "21b7756c-6593-4dd6-b1af-449f1b3d1437",
   "metadata": {},
   "outputs": [],
   "source": [
    "ecwandc311_gdf.to_parquet('../data/311/ecwandc311.parq')"
   ]
  },
  {
   "cell_type": "code",
   "execution_count": null,
   "id": "76f88c16-98c2-43b4-8a86-5f6a8c6bf6a0",
   "metadata": {},
   "outputs": [],
   "source": []
  }
 ],
 "metadata": {
  "kernelspec": {
   "display_name": "Python 3 (ipykernel)",
   "language": "python",
   "name": "python3"
  },
  "language_info": {
   "codemirror_mode": {
    "name": "ipython",
    "version": 3
   },
   "file_extension": ".py",
   "mimetype": "text/x-python",
   "name": "python",
   "nbconvert_exporter": "python",
   "pygments_lexer": "ipython3",
   "version": "3.10.2"
  }
 },
 "nbformat": 4,
 "nbformat_minor": 5
}
