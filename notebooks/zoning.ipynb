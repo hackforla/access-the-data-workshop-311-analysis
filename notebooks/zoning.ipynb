{
 "cells": [
  {
   "cell_type": "markdown",
   "id": "1696c982-2796-45ce-8f13-d7f17b9caa77",
   "metadata": {
    "tags": []
   },
   "source": [
    "# Land Use\n",
    "\n",
    "Another measure of urban form is land use.  I'll start with zoning information from City of LA planning department.  Ultimately we'll want to use parcel data from LA County.\n",
    "\n",
    "Much as I did with streets I'll focus on a couple of NCs while I try to figure this out.\n",
    "\n",
    "https://data.lacity.org/browse?q=zoning&sortBy=relevance\n",
    "\n",
    "https://planning.lacounty.gov/luz\n"
   ]
  },
  {
   "cell_type": "code",
   "execution_count": null,
   "id": "2dbd3d05-1309-4b04-901a-0c5d9aae8d1d",
   "metadata": {},
   "outputs": [],
   "source": [
    "import nc\n",
    "\n",
    "KG = nc.KG()"
   ]
  },
  {
   "cell_type": "code",
   "execution_count": null,
   "id": "d7eb7b34-177b-420d-bb07-43e9c1015983",
   "metadata": {},
   "outputs": [],
   "source": []
  },
  {
   "cell_type": "code",
   "execution_count": null,
   "id": "68eca227-418d-48cb-80ea-1d7a5b90570e",
   "metadata": {},
   "outputs": [],
   "source": [
    "ecwa = KG.nc_poly(79)"
   ]
  },
  {
   "cell_type": "code",
   "execution_count": null,
   "id": "9714df12-90e4-46a9-93d2-4955d1d485c8",
   "metadata": {},
   "outputs": [],
   "source": [
    "encino = KG.nc_poly(18)"
   ]
  },
  {
   "cell_type": "markdown",
   "id": "477075b2-76e4-4c78-9fef-5f68fbb837f8",
   "metadata": {},
   "source": [
    "This is the City of LA zoning file referenced above."
   ]
  },
  {
   "cell_type": "code",
   "execution_count": null,
   "id": "b32690e0-4938-4059-9ece-948142bcb67e",
   "metadata": {},
   "outputs": [],
   "source": [
    "%time\n",
    "#zone_gdf = gpd.read_file('/home/mcmorgan/SOCALKG/data/LA_city/zoning/Zoning.zip')\n",
    "\n",
    "zone_gdf = gpd.read_file('https://data.lacity.org/api/geospatial/rryw-49uv?method=export&format=Shapefile')"
   ]
  },
  {
   "cell_type": "code",
   "execution_count": null,
   "id": "158bb2a1-eb1e-48b4-9263-cd11a8447e22",
   "metadata": {},
   "outputs": [],
   "source": [
    "len(zone_gdf)"
   ]
  },
  {
   "cell_type": "markdown",
   "id": "3b7b6359-2795-4a1f-b68f-b7d8b759fb3c",
   "metadata": {},
   "source": [
    "Reasonable size for browser-based viz.  Use the NC poly's to subset the zone info.\n",
    "\n",
    "**Note to self:** - KG class is deficient.  You need to revisit!"
   ]
  },
  {
   "cell_type": "code",
   "execution_count": null,
   "id": "71b6dfc1-b43f-4975-b411-47131939c901",
   "metadata": {},
   "outputs": [],
   "source": [
    "ecwa_gdf = KG.nc_gfd"
   ]
  },
  {
   "cell_type": "code",
   "execution_count": null,
   "id": "dddfff8b-868b-452a-a1b7-4a88584a0312",
   "metadata": {},
   "outputs": [],
   "source": [
    "ecwa_gdf"
   ]
  },
  {
   "cell_type": "markdown",
   "id": "8877da95-a4fd-4bfd-8ac6-d30d7c5c87ce",
   "metadata": {},
   "source": [
    "Ok.  We have a one row gdf for Encino.  Spatial join hacking to use this poly to select zoning poly's."
   ]
  },
  {
   "cell_type": "code",
   "execution_count": null,
   "id": "6d5d5457-29a8-4499-bc5f-69860b3a7f5c",
   "metadata": {},
   "outputs": [],
   "source": [
    "ecwa_zone_gdf = zone_gdf.to_crs(\"EPSG:4326\").sjoin(ecwa_gdf, how=\"inner\", predicate=\"within\")"
   ]
  },
  {
   "cell_type": "code",
   "execution_count": null,
   "id": "9670d48d-06a8-4a09-abc2-ae602204757a",
   "metadata": {},
   "outputs": [],
   "source": [
    "len(ecwa_zone_gdf)"
   ]
  },
  {
   "cell_type": "code",
   "execution_count": null,
   "id": "407b43b9-add1-40a1-9db4-501b04d17064",
   "metadata": {},
   "outputs": [],
   "source": [
    "ecwa_zone_gdf[['shape_area', 'zone_cmplt', 'NAME', 'geometry']].explore(cmap=\"Blues\")"
   ]
  },
  {
   "cell_type": "markdown",
   "id": "aa2fd7be-817f-4df7-a735-429c744e5404",
   "metadata": {},
   "source": [
    "geopandas explore function uses folium.  That is sufficient to get a sense for what we have."
   ]
  },
  {
   "cell_type": "code",
   "execution_count": null,
   "id": "5e44da95-7e9a-49eb-956d-4c0266270816",
   "metadata": {},
   "outputs": [],
   "source": []
  },
  {
   "cell_type": "code",
   "execution_count": null,
   "id": "cb7cc08f-5989-43f2-bc73-e88df91c0db2",
   "metadata": {},
   "outputs": [],
   "source": [
    "ecwa_zone_gdf.info()"
   ]
  },
  {
   "cell_type": "markdown",
   "id": "f3ee7f39-4a4d-4d49-87c9-55670e4b8b43",
   "metadata": {},
   "source": [
    "Would like to get a better sense for the actual zone codes.  \n",
    "\n",
    "**Note:** what is cmplt?"
   ]
  },
  {
   "cell_type": "code",
   "execution_count": null,
   "id": "29d21bbb-a42d-4df5-a9ae-03cc2a6f1647",
   "metadata": {},
   "outputs": [],
   "source": [
    "pd.set_option(\"display.max_rows\", None)"
   ]
  },
  {
   "cell_type": "code",
   "execution_count": null,
   "id": "add887ea-e13d-400c-b7c5-41b6ebc4ab9a",
   "metadata": {},
   "outputs": [],
   "source": [
    "ecwa_zone_gdf.zone_cmplt.value_counts(sort=False)"
   ]
  },
  {
   "cell_type": "markdown",
   "id": "3ced293d-6dd4-40f4-99f9-e22029090b97",
   "metadata": {},
   "source": [
    "Next step would be to build some logic to group the code types.  I'm really looking for something like residential, commercial, open space.\n",
    "\n",
    "Once you have the groups, a simple sum should get the area, i.e. like this.  [This](https://planning.lacity.org/odocument/eadcb225-a16b-4ce6-bc94-c915408c2b04/Zoning_Code_Summary.pdf) will help.\n",
    "\n",
    "**Note:** what are the units for the area?  Should I just use shapely and compute them myself?"
   ]
  },
  {
   "cell_type": "code",
   "execution_count": null,
   "id": "9ab84e42-de30-4614-8d1a-d04569db0c4d",
   "metadata": {
    "tags": []
   },
   "outputs": [],
   "source": [
    "ecwa_zone_gdf.query(f\"zone_cmplt == 'R1-1-RIO'\")['shape_area'].sum()"
   ]
  },
  {
   "cell_type": "markdown",
   "id": "c66436f2-580d-4c96-b32a-6ad158492290",
   "metadata": {},
   "source": [
    "**Note:** As with streets, need a utility to compute density.  "
   ]
  },
  {
   "cell_type": "markdown",
   "id": "3d4a0bd2-a0dd-43cd-b919-4aded01401b7",
   "metadata": {
    "tags": []
   },
   "source": []
  },
  {
   "cell_type": "code",
   "execution_count": null,
   "id": "859b82c7-f461-472f-ac84-a8a31f8e1ab0",
   "metadata": {},
   "outputs": [],
   "source": [
    "zone_ref = pd.read_csv('/home/mcmorgan/SOCALKG/data/LA_city/zoning/Zoning_Reference_Table.csv')"
   ]
  },
  {
   "cell_type": "code",
   "execution_count": null,
   "id": "8e383d28-b667-491a-9759-e4ad2dce8afe",
   "metadata": {},
   "outputs": [],
   "source": [
    "pd.set_option(\"display.max_rows\", 10)"
   ]
  },
  {
   "cell_type": "code",
   "execution_count": null,
   "id": "2f25f88c-73ab-4747-afea-90812171f28a",
   "metadata": {},
   "outputs": [],
   "source": [
    "zone_ref"
   ]
  },
  {
   "cell_type": "code",
   "execution_count": null,
   "id": "8179d450-1c2b-43b7-8f84-b37ec03ae10c",
   "metadata": {},
   "outputs": [],
   "source": [
    "zone_ref.ZONE_CLASS.value_counts().to_frame().head(50)"
   ]
  },
  {
   "cell_type": "code",
   "execution_count": null,
   "id": "b5167b4e-d656-4fb4-8386-e51273fa7ece",
   "metadata": {},
   "outputs": [],
   "source": [
    "neighborhoods_gdf = gpd.read_file('../data/neighborhoods/Neighborhood_Councils_(Certified)_cleaned.shp')\n",
    "nc_layer = GeoData(geo_dataframe = neighborhoods_gdf,\n",
    "                   style={'color': 'black', 'fillColor': '#3366cc', 'opacity':0.8, 'weight':1.9, 'dashArray':'5', 'fillOpacity':0.2},\n",
    "                   hover_style={'fillColor': 'red' , 'fillOpacity': 0.2},\n",
    "                   name = 'Neighborhood Council')\n"
   ]
  },
  {
   "cell_type": "code",
   "execution_count": null,
   "id": "78f8ff73-2291-4aae-9061-e0eb7c39f73b",
   "metadata": {},
   "outputs": [],
   "source": []
  }
 ],
 "metadata": {
  "kernelspec": {
   "display_name": "Python 3 (ipykernel)",
   "language": "python",
   "name": "python3"
  },
  "language_info": {
   "codemirror_mode": {
    "name": "ipython",
    "version": 3
   },
   "file_extension": ".py",
   "mimetype": "text/x-python",
   "name": "python",
   "nbconvert_exporter": "python",
   "pygments_lexer": "ipython3",
   "version": "3.10.2"
  }
 },
 "nbformat": 4,
 "nbformat_minor": 5
}
